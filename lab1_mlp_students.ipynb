{
 "cells": [
  {
   "cell_type": "markdown",
   "metadata": {},
   "source": [
    "<h1>MALIS Lab Session 1 - Fall 2018</h1>"
   ]
  },
  {
   "cell_type": "markdown",
   "metadata": {},
   "source": [
    "The aim of this lab is to practice with Neural Networks (Multi-Layer Perceptrons) via simple classification experiments and the (partial) implementation of the feedforward and backpropagation procedures. For this lab, the implementation of the MLP simulator is in Python 3.\n",
    "\n",
    "Experiments should be made by groups of two students. Each group should produce a Jupyter Notebook with all their results and comments. We strongly encourage the addition of plots and visual representation to the report, bearing in mind that comments on the graphical data are still necessary. Code for adding images to your notebook: ```<img src=\"path/to/image.png\" />```.\n",
    "\n",
    "Submit your complete notebook as an archive (tar -cf groupXnotebook.tar lab1/) . Deadline for submitting your notebook: 30 November 2018."
   ]
  },
  {
   "cell_type": "markdown",
   "metadata": {},
   "source": [
    "<h2>Introduction</h2>\n",
    "There are three parts to this lab session. \n",
    "\n",
    "1. A \"theoretical\" part: Given a set of training examples you have to decide on the architecture of the feed-forward neural network such as; number of layers, number of neuron per layers and finally the values of the weights. \n",
    "\n",
    "2. A \"programming\" part: Given the skeleton of the Python code of an MLP simulator, implement the missing functions (feedforward and backpropagation procedures). \n",
    "\n",
    "3. An \"experimental\" part: Having completed the implementation of the MLP simulator, the final step consist on training the network and testing its accuracy.\n",
    "\n",
    "<h2>Part 1: Design a neural network</h2>\n",
    "The aim of this part is to get a better understanding of the basics of Neural Networks construction. A number of sample points on a 128 by 128 grid have been assigned one out of three colors (red, green or blue). You should build a Neural Network with two inputs and three outputs which provides the exact coloring for these points. The problem can be visualized in the following figure: \n",
    "\n",
    "<img src=\"data_set.jpg\" />\n",
    "\n",
    "The file set30.x1x2rgb (in .\\data\\) contains the data corresponding to the problem defined above. The visual representation of the problem (above figure) is stored in data_set.jpg.\n",
    "\n",
    "The problem:\n",
    "\n",
    "Pairs of x1 and x2 coordinates (both ranging between 0 and 127) are associated with a specific color: \n",
    "\n",
    "* Red: output 1 0 0, \n",
    "* Green: output 0 1 0, \n",
    "* Blue: output 0 0 1. \n",
    "\n",
    "The objective of the network is to correctly determine for any given (x1, x2) coordinate pair the corresponding color. \n",
    "Your task is to <b>manually define a Neural Network which performs this task perfectly (do not forget to justify your answer)</b>. There is no need for programming or iterative training. The transfer function is assumed to be the step function: \n",
    "\n",
    "$f(t) = (t > 0)$ (it is equal to 1 if t is positive, 0 otherwise). \n",
    "\n",
    "Of course, it is your task to define the number of layers, the number of neurons per layer, and the exact values for the weights. \n",
    "\n",
    "<i>Hint: You may remember the XOR problem and how it was solved.</i>"
   ]
  },
  {
   "cell_type": "markdown",
   "metadata": {},
   "source": [
    "First of all, we start to define our Neural Network. Our classes can be defined inside a convex sets. So we need just one hidden layer. We can devide all our sets just by 2 lines so our hidden layer contains two units.\n",
    "<p>\n",
    "<img src=\"Partition.PNG\"/>\n",
    "</p>\n",
    "<table>\n",
    "  <tr style=\"border: 1px solid #dddddd;\">\n",
    "    <th style=\"border: 1px solid #dddddd;\">y1</th>\n",
    "    <th style=\"border: 1px solid #dddddd;\">y2</th>\n",
    "    <th style=\"border: 1px solid #dddddd;\">a1</th>\n",
    "    <th style=\"border: 1px solid #dddddd;\">a2</th>\n",
    "    <th style=\"border: 1px solid #dddddd;\">a3</th>\n",
    "    <th style=\"border: 1px solid #dddddd;\">Color</th>\n",
    "  </tr>\n",
    "  <tr style=\"border: 1px solid #dddddd;\">\n",
    "    <td style=\"border: 1px solid #dddddd;\">1</td>\n",
    "    <td style=\"border: 1px solid #dddddd;\">1</td>\n",
    "    <td style=\"border: 1px solid #dddddd;\">0</td>\n",
    "    <td style=\"border: 1px solid #dddddd;\">1</td>\n",
    "    <td style=\"border: 1px solid #dddddd;\">0</td>\n",
    "    <td style=\"border: 1px solid #dddddd;\">Green</td>\n",
    "  </tr>\n",
    "  <tr style=\"border: 1px solid #dddddd;\">\n",
    "    <td style=\"border: 1px solid #dddddd;\">1</td>\n",
    "    <td style=\"border: 1px solid #dddddd;\">0</td>\n",
    "    <td style=\"border: 1px solid #dddddd;\">0</td>\n",
    "    <td style=\"border: 1px solid #dddddd;\">0</td>\n",
    "    <td style=\"border: 1px solid #dddddd;\">1</td>\n",
    "    <td style=\"border: 1px solid #dddddd;\">Blue</td>\n",
    "  </tr>\n",
    "  <tr style=\"border: 1px solid #dddddd;\">\n",
    "    <td style=\"border: 1px solid #dddddd;\">0</td>\n",
    "    <td style=\"border: 1px solid #dddddd;\">1</td>\n",
    "    <td style=\"border: 1px solid #dddddd;\">1</td>\n",
    "    <td style=\"border: 1px solid #dddddd;\">0</td>\n",
    "    <td style=\"border: 1px solid #dddddd;\">0</td>\n",
    "    <td style=\"border: 1px solid #dddddd;\">Red</td>\n",
    "  </tr>\n",
    "  <tr>\n",
    "    <td style=\"border: 1px solid #dddddd;\">0</td>\n",
    "    <td style=\"border: 1px solid #dddddd;\">0</td>\n",
    "    <td style=\"border: 1px solid #dddddd;\">1</td>\n",
    "    <td style=\"border: 1px solid #dddddd;\">0</td>\n",
    "    <td style=\"border: 1px solid #dddddd;\">0</td>\n",
    "    <td style=\"border: 1px solid #dddddd;\">Red</td>\n",
    "  </tr>\n",
    "</table>\n",
    "\n",
    "This table gives us a list of equations to determine the weights and biases.\n",
    "$$ w^{}_{11}+w{}_{21}-b{}_1<0$$\n",
    "$$ w^{}_{11}-b{}_1<0$$\n",
    "$$ w{}_{21}-b{}_1>=0$$\n",
    "$$ -b{}_1>=0$$\n",
    "\n",
    "$$ w^{}_{12}+w{}_{22}-b{}_2>=0$$\n",
    "$$ w^{}_{12}-b{}_2<0$$\n",
    "$$ w{}_{22}-b{}_2<0$$\n",
    "$$ -b{}_2<0$$\n",
    "\n",
    "$$ w^{}_{13}+w{}_{23}-b{}_3<0$$\n",
    "$$ w^{}_{13}-b{}_3>=0$$\n",
    "$$ w{}_{23}-b{}_3<0$$\n",
    "$$ -b{}_3<0$$\n",
    "\n",
    "We choose this list of solutions\n",
    "$$ w^{}_{11}= -4 ; w{}_{21}= -2 ; b{}_1=-3$$\n",
    "$$ w^{}_{12}= 2 ; w{}_{22}=2; b{}_2=3 $$\n",
    "$$ w^{}_{13}=2 ; w{}_{23}=-3 ; b{}_3=1 $$\n",
    "\n",
    "For the first layer we determine the equations of the two lines that define our hyperplanes.\n",
    "y1: $$ 4x1+3x2-255=0 $$\n",
    "y2: $$ -3x1+2x2+75=0 $$"
   ]
  },
  {
   "cell_type": "markdown",
   "metadata": {},
   "source": [
    "<h3>Your answer:</h3>"
   ]
  },
  {
   "cell_type": "raw",
   "metadata": {},
   "source": [
    "Input layer:  2 units,  x1   x2\n",
    "First hidden layer:\n",
    "    2 neurons:\n",
    "    neuron 1: w1 = <4>\n",
    "              w2 = <3>\n",
    "              b1  = <255>\n",
    "    neuron 2: w1 = <-3>\n",
    "              w2 = <2>\n",
    "              b2  = <-75>\n",
    "\n",
    "\n",
    "output layer:\n",
    "    3 neurons:\n",
    "    neuron 1: w11 = <-4>\n",
    "              w12 = <-2>\n",
    "              b1  = <-3>\n",
    "    neuron 2: w21 = <2>\n",
    "              w22 = <2>\n",
    "              bh  = <3>\n",
    "    neuron 3: w31 = <2>\n",
    "              w32 = <-3>\n",
    "              b3  = <1>"
   ]
  },
  {
   "cell_type": "markdown",
   "metadata": {},
   "source": [
    "<h2>Part 2: Implementation of the MLP simulator</h2>\n",
    "The task here is to implement the missing parts of a code written to simulate multi-layer perceptrons. The code can be found in your directory under the filename utils.py (but you will not edit that file, all your code will be written in your notebook). Here is a brief explanation about the MLP simulator: \n",
    "\n",
    "A network description file has to be provided. This is a text file which contains information about the number of layers in the network and the number of units (neuron) for each layer. Here is an example of such a file: "
   ]
  },
  {
   "cell_type": "raw",
   "metadata": {},
   "source": [
    "2\n",
    "3"
   ]
  },
  {
   "cell_type": "markdown",
   "metadata": {},
   "source": [
    "This example describes a 2 layer network with 2 hidden units and 3 output units. \n",
    "Additionally a pattern (or example set) file has to be provided. This file contains a number of example pattern with input and output values. For an example of such a file look at ./data/set30.x1x2rgb.\n",
    "\n",
    "As you know, transfer functions of an MLP need to be differentiable to train it. Therefore, we replace the step function by a sigmoid function.\n",
    "\n",
    "Now that you have a broad overview of the program your task is to <b>implement the feedforward function of the Neuron class</b>. Obviously, you can find help in the notes from the course."
   ]
  },
  {
   "cell_type": "code",
   "execution_count": 1,
   "metadata": {},
   "outputs": [],
   "source": [
    "# First run this cell to import relevant classes and functions\n",
    "from utils import Neuron, Dataset, Layer, MLP, sigmoid, d_sigmoid\n",
    "\n",
    "import numpy as np\n",
    "np.random.seed(1)"
   ]
  },
  {
   "cell_type": "markdown",
   "metadata": {},
   "source": [
    "<h3>Your answer:</h3>"
   ]
  },
  {
   "cell_type": "code",
   "execution_count": 2,
   "metadata": {},
   "outputs": [],
   "source": [
    "def feedforward(self):\n",
    "    res = 0. # Contains the weighted sum of the inputs of the neuron\n",
    "    for i in range(len(self.inputs)):\n",
    "        res += self.weights[i]*self.inputs[i] ### IMPLEMENTATION REQUIRED ###\n",
    "    res += self.bias\n",
    "    self.u = res\n",
    "    self.out = sigmoid(res)\n",
    "\n",
    "Neuron.feedforward = feedforward"
   ]
  },
  {
   "cell_type": "markdown",
   "metadata": {},
   "source": [
    "Before implementing the Backpropagation function, <b>write the recursive formula for the partial derivative of the error with respect to the activation (neuron j of layer i) as a function of the weights and partial derivative of the error in layer i+1 from the course material</b>."
   ]
  },
  {
   "cell_type": "markdown",
   "metadata": {},
   "source": [
    "<h3>Your answer:</h3>\n",
    "\n",
    "$$\\frac{\\partial L}{\\partial u^{(i)}_j} = \\quad 2*(y^{}_j-t{}_j) $$"
   ]
  },
  {
   "cell_type": "markdown",
   "metadata": {},
   "source": [
    "Now, <b>implement the compute_gradients() and the apply_gradient() functions of the MLP class</b>.\n",
    "\n",
    "<h3>Your answer:</h3>"
   ]
  },
  {
   "cell_type": "code",
   "execution_count": 3,
   "metadata": {},
   "outputs": [],
   "source": [
    "def compute_gradients(self):\n",
    "    # First compute derivatives for the last layer\n",
    "    layer = self.layers[-1]\n",
    "    for i in range(len(layer)):\n",
    "        # Compute dL/du_i\n",
    "        neuron = layer.neurons[i]\n",
    "        o = neuron.out\n",
    "        u = neuron.u\n",
    "        t = self.gt[i]\n",
    "        neuron.d_u =2*(sigmoid(u)-t)*o*(1-o) ### IMPLEMENTATION REQUIRED ###\n",
    "        for j in range(len(neuron.weights)):\n",
    "            # Compute dL/dw_ji\n",
    "            neuron.d_weights[j] =2*(sigmoid(u)-t)*o*(1-o)*neuron.inputs[j] ### IMPLEMENTATION REQUIRED ###\n",
    "\n",
    "    # Then compute derivatives for other layers\n",
    "    for l in range(2, len(self.layers)):\n",
    "        layer = self.layers[-l]\n",
    "        next_layer = self.layers[-l+1]\n",
    "        for i in range(len(layer)):\n",
    "            # Compute dL/du_i\n",
    "            neuron = layer.neurons[i]\n",
    "            d_u = 0.\n",
    "            u = neuron.u\n",
    "            for j in range(len(next_layer)):\n",
    "                d_u+=next_layer.neurons[j].d_u*next_layer.neurons[j].weights[i]*neuron.out*(1-neuron.out)\n",
    "                ### IMPLEMENTATION REQUIRED ###\n",
    "            neuron.d_u = d_u\n",
    "            for j in range(len(neuron.weights)):\n",
    "                # Compute dL/dw_ji\n",
    "                neuron.d_weights[j] =neuron.d_u*neuron.inputs[j] ### IMPLEMENTATION REQUIRED ###\n",
    "\n",
    "def apply_gradients(self, learning_rate):\n",
    "    # Change weights according to computed gradients\n",
    "    for i in range(1, len(self.layers)):\n",
    "        layer = self.layers[i]\n",
    "        for j in range(1, len(layer)):\n",
    "            neuron = layer.neurons[j]\n",
    "            for k in range(len(neuron.d_weights)):\n",
    "                neuron.weights[k] -=learning_rate*neuron.d_weights[k]### IMPLEMENTATION REQUIRED ###\n",
    "            neuron.bias -=learning_rate*neuron.d_u ### IMPLEMENTATION REQUIRED ###\n",
    "\n",
    "MLP.compute_gradients = compute_gradients\n",
    "MLP.apply_gradients = apply_gradients"
   ]
  },
  {
   "cell_type": "markdown",
   "metadata": {},
   "source": [
    "<h2>Part 3: Training and Accuracy experiments</h2>\n",
    "\n",
    "Train the network on the problem stated in Part 1, using the training set set120.x1x2rgb and the following parameters:\n",
    "* learning rate: 2.0; \n",
    "* number of training cycles: 1000\n",
    "\n",
    "In order to do so you will need to create a network definition file (as described in the introduction) containing the details of the network architecture. \n",
    "Evaluate the accuracy using set30.x1x2rgb as the test set (you can use the setdataset() function of the MLP class to change between training and test sets).\n",
    "\n",
    "Experiment with the learning rate and the number of training cycles. What do you notice?"
   ]
  },
  {
   "cell_type": "markdown",
   "metadata": {},
   "source": [
    "<h3>Your answer:</h3>"
   ]
  },
  {
   "cell_type": "code",
   "execution_count": 4,
   "metadata": {},
   "outputs": [
    {
     "name": "stdout",
     "output_type": "stream",
     "text": [
      "For a learning rate equals to: 2.0is :88.68686868686859\n",
      "For a learning rate equals to: 2.2is :87.84511784511783\n",
      "For a learning rate equals to: 2.4is :93.3333333333333\n",
      "For a learning rate equals to: 2.6is :93.3333333333333\n",
      "For a learning rate equals to: 2.8is :93.3333333333333\n",
      "For a learning rate equals to: 3.0is :93.3333333333333\n",
      "For a learning rate equals to: 3.2is :93.3333333333333\n",
      "For a learning rate equals to: 3.4000000000000004is :93.3333333333333\n",
      "For a learning rate equals to: 3.6is :93.3333333333333\n",
      "For a learning rate equals to: 3.8is :93.3333333333333\n",
      "For a learning rate equals to: 4.0is :93.3333333333333\n"
     ]
    }
   ],
   "source": [
    "# This is an example code that you can adjust to your liking\n",
    "\n",
    "\n",
    "train_datafile = \"data/set120.x1x2rgb\"\n",
    "train_data = Dataset(train_datafile)\n",
    "\n",
    "test_datafile = \"data/set30.x1x2rgb\"\n",
    "test_data = Dataset(test_datafile)\n",
    "\n",
    "nnfile = \"data/NN.dat\"\n",
    "\n",
    "mlp = MLP(nnfile, train_data, print_step=100, verbose=False)\n",
    "\n",
    "#mlp.train(1000, learning_rate=3)\n",
    "#mlp.make_plot()\n",
    "#print(\"=== Result on test data ===\")\n",
    "#mlp.setdataset(test_data)\n",
    "#mlp.print_accuracy()\n",
    "\n",
    "\n",
    "\n",
    "# Calculate average accuracy for 100 experience for different learning rates\n",
    "for i in range(0,11):\n",
    "    l=[]\n",
    "    lrate=2+0.2*i\n",
    "    for f in range(1,100):\n",
    "        mlp.train(1000, learning_rate=lrate)\n",
    "        mlp.setdataset(test_data)\n",
    "        l.append(mlp.compute_accuracy()*100)\n",
    "    print(\"For a learning rate equals to: \"+str(lrate)+\"is :\" +str(sum(l)/len(l)))\n",
    "    \n",
    "    \n",
    "# Calculate average accuracy for 100 experience for a given learning rate\n",
    "# l=[]\n",
    "# for f in range(1,100):\n",
    "#     mlp.train(1000, learning_rate=3)\n",
    "#     mlp.setdataset(test_data)\n",
    "#     l.append(mlp.compute_accuracy()*100)\n",
    "# print(sum(l)/len(l))\n"
   ]
  },
  {
   "cell_type": "markdown",
   "metadata": {},
   "source": [
    "<h3>Your comments</h3>\n",
    "Whenever we repeat the experience, we keep getting different plots. This is due to the fact that each time we start from random values of the bias and weights.\n",
    "We try different combinations of the number of hidden layers and the number of units for each layer.For each setting we repeat the experience 100 times and calculate the average accuracy for each one. The obtained results are displayed onthe table\n",
    "<table>\n",
    "  <tr style=\"border: 1px solid #dddddd;\">\n",
    "    <th style=\"border: 1px solid #dddddd;\">NN.dat file </th>\n",
    "    <th style=\"border: 1px solid #dddddd;\">Accuracy</th>\n",
    "  </tr>\n",
    "  <tr style=\"border: 1px solid #dddddd;\">\n",
    "    <td style=\"border: 1px solid #dddddd;\">0 3</td>\n",
    "    <td style=\"border: 1px solid #dddddd;\">56.90235690235693%</td>\n",
    "  </tr>\n",
    "  <tr style=\"border: 1px solid #dddddd;\">\n",
    "    <td style=\"border: 1px solid #dddddd;\">1 3</td>\n",
    "    <td style=\"border: 1px solid #dddddd;\">59.66329966329965%</td>\n",
    "  </tr>\n",
    "  <tr style=\"border: 1px solid #dddddd;\">\n",
    "    <td style=\"border: 1px solid #dddddd;\">2 3</td>\n",
    "    <td style=\"border: 1px solid #dddddd;\">96.8350168350169%</td>\n",
    "  </tr>\n",
    "  <tr>\n",
    "    <td style=\"border: 1px solid #dddddd;\">3 3</td>\n",
    "    <td style=\"border: 1px solid #dddddd;\">99.96632996632998%</td>\n",
    "  </tr>\n",
    "    <tr>\n",
    "    <td style=\"border: 1px solid #dddddd;\">4 3</td>\n",
    "    <td style=\"border: 1px solid #dddddd;\">100.0%</td>\n",
    "  </tr>\n",
    "</table>\n",
    "\n",
    "This proves even though we are not 100% accurate, we can approximate the results to a pretty decent accuracy having less computations to do.\n",
    "\n",
    "For the 2 3 model, we try different values of the learning rate going from 2 to 4 for a step of 0.2. We notice that starting from a certain value (2.4), we keep getting the same average accuracy le"
   ]
  },
  {
   "cell_type": "code",
   "execution_count": null,
   "metadata": {},
   "outputs": [],
   "source": []
  }
 ],
 "metadata": {
  "kernelspec": {
   "display_name": "Python 3",
   "language": "python",
   "name": "python3"
  },
  "language_info": {
   "codemirror_mode": {
    "name": "ipython",
    "version": 3
   },
   "file_extension": ".py",
   "mimetype": "text/x-python",
   "name": "python",
   "nbconvert_exporter": "python",
   "pygments_lexer": "ipython3",
   "version": "3.5.2"
  }
 },
 "nbformat": 4,
 "nbformat_minor": 2
}
